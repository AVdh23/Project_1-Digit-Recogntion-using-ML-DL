{
 "cells": [
  {
   "cell_type": "code",
   "execution_count": null,
   "id": "2344ecd0",
   "metadata": {},
   "outputs": [],
   "source": [
    "# We will be doing this Project in Four basic steps:-\n",
    "1. Screen Capturing to take the inputs\n",
    "2.Generation of dataset from above step and then loading of the dataset\n",
    "3.Fitting of the Model using Support Vector Classifier(SVC) and calculate the metric parameters\n",
    "4.Prediction of images by using Paint as the input ."
   ]
  },
  {
   "cell_type": "code",
   "execution_count": null,
   "id": "3811cb1d",
   "metadata": {},
   "outputs": [],
   "source": [
    "# We are importing this package called pyscreenshot to take the input by using paint \n",
    "\n",
    "import pyscreenshot as pysh\n",
    "import time\n"
   ]
  },
  {
   "cell_type": "code",
   "execution_count": null,
   "id": "9d1de0db",
   "metadata": {},
   "outputs": [],
   "source": [
    "# Taking Inputs\n"
   ]
  }
 ],
 "metadata": {
  "kernelspec": {
   "display_name": "Python 3 (ipykernel)",
   "language": "python",
   "name": "python3"
  },
  "language_info": {
   "codemirror_mode": {
    "name": "ipython",
    "version": 3
   },
   "file_extension": ".py",
   "mimetype": "text/x-python",
   "name": "python",
   "nbconvert_exporter": "python",
   "pygments_lexer": "ipython3",
   "version": "3.9.13"
  }
 },
 "nbformat": 4,
 "nbformat_minor": 5
}
